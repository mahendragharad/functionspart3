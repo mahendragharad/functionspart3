{
  "nbformat": 4,
  "nbformat_minor": 0,
  "metadata": {
    "colab": {
      "provenance": []
    },
    "kernelspec": {
      "name": "python3",
      "display_name": "Python 3"
    },
    "language_info": {
      "name": "python"
    }
  },
  "cells": [
    {
      "cell_type": "markdown",
      "source": [
        "#####**FUNCTION PART  - 3 || DATE := 13TH NOVEMBER.**\n",
        "\n",
        " *  **DECORATOR**"
      ],
      "metadata": {
        "id": "jJ4T2iB5AvvR"
      }
    },
    {
      "cell_type": "code",
      "execution_count": null,
      "metadata": {
        "id": "THwCGFrIAvBa"
      },
      "outputs": [],
      "source": [
        "def test1(func) :\n",
        "  def test2() :\n",
        "    print(\"helloe i am inside the test1 :\")\n",
        "    func()\n",
        "    print(\"test2 executed\")\n",
        "  return test2 \n",
        "    "
      ]
    },
    {
      "cell_type": "code",
      "source": [
        "@test1\n",
        "def test3() :\n",
        "  print(\"hellow world\")"
      ],
      "metadata": {
        "id": "mEpinx5cI87s"
      },
      "execution_count": null,
      "outputs": []
    },
    {
      "cell_type": "code",
      "source": [
        "test3()"
      ],
      "metadata": {
        "colab": {
          "base_uri": "https://localhost:8080/"
        },
        "id": "S4nXIUbJJCO1",
        "outputId": "d4fb4015-ee93-4039-ad7f-5365108bb8e4"
      },
      "execution_count": null,
      "outputs": [
        {
          "output_type": "stream",
          "name": "stdout",
          "text": [
            "helloe i am inside the test1 :\n",
            "hellow world\n",
            "test2 executed\n"
          ]
        }
      ]
    },
    {
      "cell_type": "code",
      "source": [
        "@test1\n",
        "def test4() :\n",
        "  return 6+2"
      ],
      "metadata": {
        "id": "W1T34dL5JFU8"
      },
      "execution_count": null,
      "outputs": []
    },
    {
      "cell_type": "code",
      "source": [
        "test4()"
      ],
      "metadata": {
        "colab": {
          "base_uri": "https://localhost:8080/"
        },
        "id": "VucolyRbS2C5",
        "outputId": "2d06095b-6511-46fe-9827-e29041b7110e"
      },
      "execution_count": null,
      "outputs": [
        {
          "output_type": "stream",
          "name": "stdout",
          "text": [
            "helloe i am inside the test1 :\n",
            "test2 executed\n"
          ]
        }
      ]
    },
    {
      "cell_type": "markdown",
      "source": [
        "\n",
        "\n",
        "\n",
        "\n",
        "*  When we return the 6+2 it did not print any thing when we call function \n",
        "test4() it did not print anything \n",
        "\n",
        "*  To print the output of the below function we need to print the function\n",
        "as follows\n",
        "\n"
      ],
      "metadata": {
        "id": "tpmWkrqmR3qO"
      }
    },
    {
      "cell_type": "code",
      "source": [
        "def test1(func) :\n",
        "  def test2() :\n",
        "    print(\"hellow i am inside the test1 :\")\n",
        "    func()\n",
        "    print(func())\n",
        "    print(\"test2 executed\")\n",
        "  return test2 \n",
        "    "
      ],
      "metadata": {
        "id": "iP4I17p-JIU-"
      },
      "execution_count": 1,
      "outputs": []
    },
    {
      "cell_type": "code",
      "source": [
        "@test1\n",
        "def test4() :\n",
        "  return 6+2"
      ],
      "metadata": {
        "id": "iqasld73LBS-"
      },
      "execution_count": 3,
      "outputs": []
    },
    {
      "cell_type": "code",
      "source": [
        "test4()"
      ],
      "metadata": {
        "colab": {
          "base_uri": "https://localhost:8080/"
        },
        "id": "vxyXJKTETJR0",
        "outputId": "3a246cd1-ab18-4068-a2a2-b9afff97e3ae"
      },
      "execution_count": 4,
      "outputs": [
        {
          "output_type": "stream",
          "name": "stdout",
          "text": [
            "helloe i am inside the test1 :\n",
            "8\n",
            "test2 executed\n"
          ]
        }
      ]
    },
    {
      "cell_type": "code",
      "source": [
        "test4() + 878"
      ],
      "metadata": {
        "colab": {
          "base_uri": "https://localhost:8080/",
          "height": 217
        },
        "id": "o9JTRjYoOxrt",
        "outputId": "7ed3b3c1-97dc-49f6-9cf8-21e0abd420fc"
      },
      "execution_count": 10,
      "outputs": [
        {
          "output_type": "stream",
          "name": "stdout",
          "text": [
            "helloe i am inside the test1 :\n",
            "8\n",
            "test2 executed\n"
          ]
        },
        {
          "output_type": "error",
          "ename": "TypeError",
          "evalue": "ignored",
          "traceback": [
            "\u001b[0;31m---------------------------------------------------------------------------\u001b[0m",
            "\u001b[0;31mTypeError\u001b[0m                                 Traceback (most recent call last)",
            "\u001b[0;32m<ipython-input-10-67634a9a79a2>\u001b[0m in \u001b[0;36m<module>\u001b[0;34m\u001b[0m\n\u001b[0;32m----> 1\u001b[0;31m \u001b[0mtest4\u001b[0m\u001b[0;34m(\u001b[0m\u001b[0;34m)\u001b[0m \u001b[0;34m+\u001b[0m \u001b[0;36m878\u001b[0m\u001b[0;34m\u001b[0m\u001b[0;34m\u001b[0m\u001b[0m\n\u001b[0m",
            "\u001b[0;31mTypeError\u001b[0m: unsupported operand type(s) for +: 'NoneType' and 'int'"
          ]
        }
      ]
    },
    {
      "cell_type": "markdown",
      "source": [
        "**When we use the decorator we are not allow to perform this type of premitive operations**\n",
        "\n",
        "**When we use the decorator it gives the data type of the function as nonetype**"
      ],
      "metadata": {
        "id": "NQKRjrjPO1rr"
      }
    },
    {
      "cell_type": "markdown",
      "source": [
        "------------------------------------------------------------------------------------------------"
      ],
      "metadata": {
        "id": "3LnkAanPTUIG"
      }
    },
    {
      "cell_type": "code",
      "source": [
        "a = test4()"
      ],
      "metadata": {
        "colab": {
          "base_uri": "https://localhost:8080/"
        },
        "id": "c0Sm4d6ZTLNU",
        "outputId": "63eb8548-6396-4f75-8fe4-03c06adbeb35"
      },
      "execution_count": null,
      "outputs": [
        {
          "output_type": "stream",
          "name": "stdout",
          "text": [
            "helloe i am inside the test1 :\n",
            "8\n",
            "test2 executed\n"
          ]
        }
      ]
    },
    {
      "cell_type": "code",
      "source": [
        "a "
      ],
      "metadata": {
        "id": "7amAExF7TYwk"
      },
      "execution_count": null,
      "outputs": []
    },
    {
      "cell_type": "code",
      "source": [
        "type(a)"
      ],
      "metadata": {
        "colab": {
          "base_uri": "https://localhost:8080/"
        },
        "id": "UwOrREpLTanT",
        "outputId": "0585f52c-3036-40e1-e8c8-04db03452a6f"
      },
      "execution_count": null,
      "outputs": [
        {
          "output_type": "execute_result",
          "data": {
            "text/plain": [
              "NoneType"
            ]
          },
          "metadata": {},
          "execution_count": 49
        }
      ]
    },
    {
      "cell_type": "code",
      "source": [
        "def test5() :\n",
        "  return 6+5 "
      ],
      "metadata": {
        "id": "brHFW3ocTdhT"
      },
      "execution_count": 5,
      "outputs": []
    },
    {
      "cell_type": "code",
      "source": [
        "test5()"
      ],
      "metadata": {
        "colab": {
          "base_uri": "https://localhost:8080/"
        },
        "id": "thX-_M5LOJMk",
        "outputId": "b28bea10-774e-4f14-9979-4b760916cbbb"
      },
      "execution_count": 6,
      "outputs": [
        {
          "output_type": "execute_result",
          "data": {
            "text/plain": [
              "11"
            ]
          },
          "metadata": {},
          "execution_count": 6
        }
      ]
    },
    {
      "cell_type": "code",
      "source": [
        "type(test5())"
      ],
      "metadata": {
        "colab": {
          "base_uri": "https://localhost:8080/"
        },
        "id": "s_7l_lFZOKwj",
        "outputId": "9079df1f-c1c0-4f33-e34f-61a2bd87d44f"
      },
      "execution_count": 8,
      "outputs": [
        {
          "output_type": "execute_result",
          "data": {
            "text/plain": [
              "int"
            ]
          },
          "metadata": {},
          "execution_count": 8
        }
      ]
    },
    {
      "cell_type": "code",
      "source": [
        "test5() + 8789 "
      ],
      "metadata": {
        "colab": {
          "base_uri": "https://localhost:8080/"
        },
        "id": "R7YtG4hgONoM",
        "outputId": "fa983d6b-5d80-4e4f-bf19-6ef9fbe1ce2d"
      },
      "execution_count": 9,
      "outputs": [
        {
          "output_type": "execute_result",
          "data": {
            "text/plain": [
              "8800"
            ]
          },
          "metadata": {},
          "execution_count": 9
        }
      ]
    },
    {
      "cell_type": "markdown",
      "source": [
        "\n",
        "\n",
        "**when we are not use the decorator then this type of premiive operations are allow to perform.**\n",
        "\n"
      ],
      "metadata": {
        "id": "_VW9xBsaOfkz"
      }
    },
    {
      "cell_type": "markdown",
      "source": [
        "**To solve this we have to return the function which we are passed** \n",
        "\n",
        "**To understand it better see the following code**"
      ],
      "metadata": {
        "id": "hM9P9VZ7QVDc"
      }
    },
    {
      "cell_type": "code",
      "source": [
        "def test1(func) :\n",
        "  def test2() :\n",
        "    print(\"hellow i am inside the test1 :\")\n",
        "    func()\n",
        "    print(func())\n",
        "    print(\"test2 executed\")\n",
        "    return func()\n",
        "  return test2 \n",
        "    "
      ],
      "metadata": {
        "id": "CBx_SoO2OZAL"
      },
      "execution_count": 11,
      "outputs": []
    },
    {
      "cell_type": "code",
      "source": [
        "@test1\n",
        "def test4() :\n",
        "  return 6+2"
      ],
      "metadata": {
        "id": "fVcMn_QOQtgd"
      },
      "execution_count": 12,
      "outputs": []
    },
    {
      "cell_type": "code",
      "source": [
        "test4()"
      ],
      "metadata": {
        "colab": {
          "base_uri": "https://localhost:8080/"
        },
        "id": "duKqs89bQxaj",
        "outputId": "7a985704-495e-47f9-b05c-dbe5ae249012"
      },
      "execution_count": 13,
      "outputs": [
        {
          "output_type": "stream",
          "name": "stdout",
          "text": [
            "hellow i am inside the test1 :\n",
            "8\n",
            "test2 executed\n"
          ]
        },
        {
          "output_type": "execute_result",
          "data": {
            "text/plain": [
              "8"
            ]
          },
          "metadata": {},
          "execution_count": 13
        }
      ]
    },
    {
      "cell_type": "code",
      "source": [
        "type(test4())"
      ],
      "metadata": {
        "colab": {
          "base_uri": "https://localhost:8080/"
        },
        "id": "jCY3Wn_CQ0Or",
        "outputId": "472917f5-ea31-4687-c20e-3a3eb33e57ae"
      },
      "execution_count": 14,
      "outputs": [
        {
          "output_type": "stream",
          "name": "stdout",
          "text": [
            "hellow i am inside the test1 :\n",
            "8\n",
            "test2 executed\n"
          ]
        },
        {
          "output_type": "execute_result",
          "data": {
            "text/plain": [
              "int"
            ]
          },
          "metadata": {},
          "execution_count": 14
        }
      ]
    },
    {
      "cell_type": "code",
      "source": [
        "test4() + 7878"
      ],
      "metadata": {
        "colab": {
          "base_uri": "https://localhost:8080/"
        },
        "id": "MppxfkFnQ4yk",
        "outputId": "08d2ed65-b469-43d6-c720-29fbbf2ba058"
      },
      "execution_count": 15,
      "outputs": [
        {
          "output_type": "stream",
          "name": "stdout",
          "text": [
            "hellow i am inside the test1 :\n",
            "8\n",
            "test2 executed\n"
          ]
        },
        {
          "output_type": "execute_result",
          "data": {
            "text/plain": [
              "7886"
            ]
          },
          "metadata": {},
          "execution_count": 15
        }
      ]
    },
    {
      "cell_type": "markdown",
      "source": [
        "-------------------------------------------------------------------------------------------"
      ],
      "metadata": {
        "id": "D-WpbTi0UL-s"
      }
    },
    {
      "cell_type": "code",
      "source": [
        "def test5(func) :\n",
        "  def test6() :\n",
        "    func() \n",
        "    print(func())\n",
        "    print(\"hellow world\")\n",
        "  return test6\n"
      ],
      "metadata": {
        "id": "zHCRi4NpRSuM"
      },
      "execution_count": 22,
      "outputs": []
    },
    {
      "cell_type": "code",
      "source": [
        "@test5\n",
        "def test7() :\n",
        "  return 9+9"
      ],
      "metadata": {
        "id": "EB44xizlUdxk"
      },
      "execution_count": 23,
      "outputs": []
    },
    {
      "cell_type": "code",
      "source": [
        "test7()"
      ],
      "metadata": {
        "colab": {
          "base_uri": "https://localhost:8080/"
        },
        "id": "fgAP1y92Ukmj",
        "outputId": "8bfe7d0b-58cc-44a5-9e7a-b68ebee2bbd3"
      },
      "execution_count": 24,
      "outputs": [
        {
          "output_type": "stream",
          "name": "stdout",
          "text": [
            "18\n",
            "hellow world\n"
          ]
        }
      ]
    },
    {
      "cell_type": "code",
      "source": [
        "test7() + 878"
      ],
      "metadata": {
        "colab": {
          "base_uri": "https://localhost:8080/",
          "height": 200
        },
        "id": "Yf5HUnxIWPp8",
        "outputId": "d817a524-6302-43af-b38b-bb76ecb71e6e"
      },
      "execution_count": 26,
      "outputs": [
        {
          "output_type": "stream",
          "name": "stdout",
          "text": [
            "18\n",
            "hellow world\n"
          ]
        },
        {
          "output_type": "error",
          "ename": "TypeError",
          "evalue": "ignored",
          "traceback": [
            "\u001b[0;31m---------------------------------------------------------------------------\u001b[0m",
            "\u001b[0;31mTypeError\u001b[0m                                 Traceback (most recent call last)",
            "\u001b[0;32m<ipython-input-26-c223efcbb020>\u001b[0m in \u001b[0;36m<module>\u001b[0;34m\u001b[0m\n\u001b[0;32m----> 1\u001b[0;31m \u001b[0mtest7\u001b[0m\u001b[0;34m(\u001b[0m\u001b[0;34m)\u001b[0m \u001b[0;34m+\u001b[0m \u001b[0;36m878\u001b[0m\u001b[0;34m\u001b[0m\u001b[0;34m\u001b[0m\u001b[0m\n\u001b[0m",
            "\u001b[0;31mTypeError\u001b[0m: unsupported operand type(s) for +: 'NoneType' and 'int'"
          ]
        }
      ]
    },
    {
      "cell_type": "code",
      "source": [
        "type(test7())"
      ],
      "metadata": {
        "colab": {
          "base_uri": "https://localhost:8080/"
        },
        "id": "4onCu3pdUmka",
        "outputId": "d9e01dc6-228a-4979-8566-4d1acad6591c"
      },
      "execution_count": 25,
      "outputs": [
        {
          "output_type": "stream",
          "name": "stdout",
          "text": [
            "18\n",
            "hellow world\n"
          ]
        },
        {
          "output_type": "execute_result",
          "data": {
            "text/plain": [
              "NoneType"
            ]
          },
          "metadata": {},
          "execution_count": 25
        }
      ]
    },
    {
      "cell_type": "markdown",
      "source": [
        "**When we print the function it gives the datatype of the function as nonetype and bocoz of this reason we are not able to perform some premitive type of operations suppose if we have to perform the premitive type operations then we need to convert the nonetype function into the premitive datatype. To convert the nonetype function into integer or into any another premitive datatype then we have to return that function as follows**\n",
        "\n",
        "**To understand it better see the following code**"
      ],
      "metadata": {
        "id": "2TD0g8Y8U6cJ"
      }
    },
    {
      "cell_type": "code",
      "source": [
        "def test5(func) :\n",
        "  def test6() :\n",
        "    func() \n",
        "    print(func())\n",
        "    print(\"hellow world\")\n",
        "    return func()\n",
        "  return test6\n"
      ],
      "metadata": {
        "id": "dDa1DsNMU42r"
      },
      "execution_count": 27,
      "outputs": []
    },
    {
      "cell_type": "code",
      "source": [
        "@test5\n",
        "def test7() :\n",
        "  return 9+9"
      ],
      "metadata": {
        "id": "w_CVqmesWbgr"
      },
      "execution_count": 28,
      "outputs": []
    },
    {
      "cell_type": "code",
      "source": [
        "test7()"
      ],
      "metadata": {
        "colab": {
          "base_uri": "https://localhost:8080/"
        },
        "id": "K3OaSOVkWezk",
        "outputId": "a75972cb-4e63-4e62-b0ca-d53854558f4c"
      },
      "execution_count": 29,
      "outputs": [
        {
          "output_type": "stream",
          "name": "stdout",
          "text": [
            "18\n",
            "hellow world\n"
          ]
        },
        {
          "output_type": "execute_result",
          "data": {
            "text/plain": [
              "18"
            ]
          },
          "metadata": {},
          "execution_count": 29
        }
      ]
    },
    {
      "cell_type": "code",
      "source": [
        "test7() + 88978"
      ],
      "metadata": {
        "colab": {
          "base_uri": "https://localhost:8080/"
        },
        "id": "AD7kJGNsWgfs",
        "outputId": "e12a6c1d-e2ba-42e2-b015-4d1b9ae4c46b"
      },
      "execution_count": 30,
      "outputs": [
        {
          "output_type": "stream",
          "name": "stdout",
          "text": [
            "18\n",
            "hellow world\n"
          ]
        },
        {
          "output_type": "execute_result",
          "data": {
            "text/plain": [
              "88996"
            ]
          },
          "metadata": {},
          "execution_count": 30
        }
      ]
    },
    {
      "cell_type": "markdown",
      "source": [
        "**This approch we have to use to solve the above problem**"
      ],
      "metadata": {
        "id": "EETObH-pWl5v"
      }
    },
    {
      "cell_type": "markdown",
      "source": [
        "####**Another problem**"
      ],
      "metadata": {
        "id": "9XdFM6AxXvag"
      }
    },
    {
      "cell_type": "code",
      "source": [
        "def test8(func) :\n",
        "  def test9() :\n",
        "    func() \n",
        "    print(\"hellow world \")\n",
        "    return func\n",
        "  return test9\n"
      ],
      "metadata": {
        "id": "BL7VWdwrWk4m"
      },
      "execution_count": 31,
      "outputs": []
    },
    {
      "cell_type": "code",
      "source": [
        "def test10(a,b) :\n",
        "  return a+b "
      ],
      "metadata": {
        "id": "Wrhw4I3OYLKt"
      },
      "execution_count": 32,
      "outputs": []
    },
    {
      "cell_type": "code",
      "source": [
        "test10(\"mahendra\" , \"gharad\")"
      ],
      "metadata": {
        "colab": {
          "base_uri": "https://localhost:8080/",
          "height": 36
        },
        "id": "ObkqIyuaYeSc",
        "outputId": "0db69df9-b007-4dd3-88f7-335ec83f307e"
      },
      "execution_count": 33,
      "outputs": [
        {
          "output_type": "execute_result",
          "data": {
            "text/plain": [
              "'mahendragharad'"
            ],
            "application/vnd.google.colaboratory.intrinsic+json": {
              "type": "string"
            }
          },
          "metadata": {},
          "execution_count": 33
        }
      ]
    },
    {
      "cell_type": "code",
      "source": [
        "@test8\n",
        "def test10(a,b) :\n",
        "  return a+b "
      ],
      "metadata": {
        "id": "aXsjsbiAYuuk"
      },
      "execution_count": 34,
      "outputs": []
    },
    {
      "cell_type": "code",
      "source": [
        "test10()"
      ],
      "metadata": {
        "colab": {
          "base_uri": "https://localhost:8080/",
          "height": 287
        },
        "id": "4RvvIsBUY2tk",
        "outputId": "1dac50f7-2dea-47da-993b-4aa328dfc775"
      },
      "execution_count": 35,
      "outputs": [
        {
          "output_type": "error",
          "ename": "TypeError",
          "evalue": "ignored",
          "traceback": [
            "\u001b[0;31m---------------------------------------------------------------------------\u001b[0m",
            "\u001b[0;31mTypeError\u001b[0m                                 Traceback (most recent call last)",
            "\u001b[0;32m<ipython-input-35-c6a9f334a881>\u001b[0m in \u001b[0;36m<module>\u001b[0;34m\u001b[0m\n\u001b[0;32m----> 1\u001b[0;31m \u001b[0mtest10\u001b[0m\u001b[0;34m(\u001b[0m\u001b[0;34m)\u001b[0m\u001b[0;34m\u001b[0m\u001b[0;34m\u001b[0m\u001b[0m\n\u001b[0m",
            "\u001b[0;32m<ipython-input-31-0ee7aae2c707>\u001b[0m in \u001b[0;36mtest9\u001b[0;34m()\u001b[0m\n\u001b[1;32m      1\u001b[0m \u001b[0;32mdef\u001b[0m \u001b[0mtest8\u001b[0m\u001b[0;34m(\u001b[0m\u001b[0mfunc\u001b[0m\u001b[0;34m)\u001b[0m \u001b[0;34m:\u001b[0m\u001b[0;34m\u001b[0m\u001b[0;34m\u001b[0m\u001b[0m\n\u001b[1;32m      2\u001b[0m   \u001b[0;32mdef\u001b[0m \u001b[0mtest9\u001b[0m\u001b[0;34m(\u001b[0m\u001b[0;34m)\u001b[0m \u001b[0;34m:\u001b[0m\u001b[0;34m\u001b[0m\u001b[0;34m\u001b[0m\u001b[0m\n\u001b[0;32m----> 3\u001b[0;31m     \u001b[0mfunc\u001b[0m\u001b[0;34m(\u001b[0m\u001b[0;34m)\u001b[0m\u001b[0;34m\u001b[0m\u001b[0;34m\u001b[0m\u001b[0m\n\u001b[0m\u001b[1;32m      4\u001b[0m     \u001b[0mprint\u001b[0m\u001b[0;34m(\u001b[0m\u001b[0;34m\"hellow world \"\u001b[0m\u001b[0;34m)\u001b[0m\u001b[0;34m\u001b[0m\u001b[0;34m\u001b[0m\u001b[0m\n\u001b[1;32m      5\u001b[0m     \u001b[0;32mreturn\u001b[0m \u001b[0mfunc\u001b[0m\u001b[0;34m\u001b[0m\u001b[0;34m\u001b[0m\u001b[0m\n",
            "\u001b[0;31mTypeError\u001b[0m: test10() missing 2 required positional arguments: 'a' and 'b'"
          ]
        }
      ]
    },
    {
      "cell_type": "markdown",
      "source": [
        "**When we pass the argument inside the base function then is also important to pass the argument inside the main function to perform the task**\n",
        "\n",
        "**To understand it better see the following code**"
      ],
      "metadata": {
        "id": "iSwMiCYaY8fa"
      }
    },
    {
      "cell_type": "code",
      "source": [
        "def test8(func) :\n",
        "  def test9(a,b) :\n",
        "    func(a,b) \n",
        "    print(\"hellow world \")\n",
        "    return func(a,b)\n",
        "  return test9"
      ],
      "metadata": {
        "id": "LeiIKy9MY5Uk"
      },
      "execution_count": 39,
      "outputs": []
    },
    {
      "cell_type": "code",
      "source": [
        "@test8\n",
        "def test10(a,b) :\n",
        "  return a+b "
      ],
      "metadata": {
        "id": "CXeyU7XQZh6E"
      },
      "execution_count": 46,
      "outputs": []
    },
    {
      "cell_type": "code",
      "source": [
        "test10(\"mahendra\" , \"patil\")"
      ],
      "metadata": {
        "colab": {
          "base_uri": "https://localhost:8080/",
          "height": 53
        },
        "id": "OMnye-zOZkW1",
        "outputId": "f16c2b73-bb98-4ca5-a3f8-cd9db242ba43"
      },
      "execution_count": 42,
      "outputs": [
        {
          "output_type": "stream",
          "name": "stdout",
          "text": [
            "hellow world \n"
          ]
        },
        {
          "output_type": "execute_result",
          "data": {
            "text/plain": [
              "'mahendrapatil'"
            ],
            "application/vnd.google.colaboratory.intrinsic+json": {
              "type": "string"
            }
          },
          "metadata": {},
          "execution_count": 42
        }
      ]
    },
    {
      "cell_type": "markdown",
      "source": [
        "**Now in the above function if we uncrease the number of arguments then we need to pass that arguments also inside the main function every time when we increase the number of arguments in the base function so it is not good way to do that to do it in simplest way we use asteric '*' sign with args name as follow**\n",
        "\n",
        "**To understand it better see the following code**"
      ],
      "metadata": {
        "id": "erETBYS9bpuF"
      }
    },
    {
      "cell_type": "code",
      "source": [
        "def test8(func) :\n",
        "  def test9(a,b,c) :\n",
        "    func(a,b,c) \n",
        "    print(\"hellow world \")\n",
        "    return func(a,b,c)\n",
        "  return test9"
      ],
      "metadata": {
        "id": "vDDSCM2zZmPk"
      },
      "execution_count": 59,
      "outputs": []
    },
    {
      "cell_type": "code",
      "source": [
        "@test8\n",
        "def test10(a,b,c) :\n",
        "  return a+b+c "
      ],
      "metadata": {
        "id": "14LX1M8EcusQ"
      },
      "execution_count": 60,
      "outputs": []
    },
    {
      "cell_type": "code",
      "source": [
        "test10(\"mahendra\" , \"gharad\" , \"patil\")"
      ],
      "metadata": {
        "colab": {
          "base_uri": "https://localhost:8080/",
          "height": 53
        },
        "id": "jS4e8RO0cwA0",
        "outputId": "9abd9cfd-94d1-42c3-c138-41739045e478"
      },
      "execution_count": 61,
      "outputs": [
        {
          "output_type": "stream",
          "name": "stdout",
          "text": [
            "hellow world \n"
          ]
        },
        {
          "output_type": "execute_result",
          "data": {
            "text/plain": [
              "'mahendragharadpatil'"
            ],
            "application/vnd.google.colaboratory.intrinsic+json": {
              "type": "string"
            }
          },
          "metadata": {},
          "execution_count": 61
        }
      ]
    },
    {
      "cell_type": "code",
      "source": [
        "def test8(func) :\n",
        "  def test9(*args) :\n",
        "    func(*args) \n",
        "    print(\"hellow world \")\n",
        "    return func(*args)\n",
        "  return test9"
      ],
      "metadata": {
        "id": "tjpDpPhNc1ir"
      },
      "execution_count": 63,
      "outputs": []
    },
    {
      "cell_type": "code",
      "source": [
        "@test8\n",
        "def test10(a,b,c,d) :\n",
        "  return a+b+c+d "
      ],
      "metadata": {
        "id": "kmt9a2qddbt0"
      },
      "execution_count": 64,
      "outputs": []
    },
    {
      "cell_type": "code",
      "source": [
        "test10(\"mahendra\" , \"gharad\" , \"patil\" , \"goregaon\")"
      ],
      "metadata": {
        "colab": {
          "base_uri": "https://localhost:8080/",
          "height": 53
        },
        "id": "lJQlJUWVdmdU",
        "outputId": "35babf92-49be-44f7-fa65-9e269bfaaa3f"
      },
      "execution_count": 66,
      "outputs": [
        {
          "output_type": "stream",
          "name": "stdout",
          "text": [
            "hellow world \n"
          ]
        },
        {
          "output_type": "execute_result",
          "data": {
            "text/plain": [
              "'mahendragharadpatilgoregaon'"
            ],
            "application/vnd.google.colaboratory.intrinsic+json": {
              "type": "string"
            }
          },
          "metadata": {},
          "execution_count": 66
        }
      ]
    },
    {
      "cell_type": "markdown",
      "source": [
        "**To use 'kwargs' add it to the main function as follows**"
      ],
      "metadata": {
        "id": "HkYF2Z2gegbn"
      }
    },
    {
      "cell_type": "code",
      "source": [
        "def test8(func) :\n",
        "  def test9(*args,**kwargs) :\n",
        "    func(*args,**kwargs) \n",
        "    print(\"hellow world \")\n",
        "    return func(*args,**kwargs)\n",
        "  return test9"
      ],
      "metadata": {
        "id": "9qGquAH1dpBU"
      },
      "execution_count": 67,
      "outputs": []
    },
    {
      "cell_type": "code",
      "source": [
        "@test8\n",
        "def test10(**kwargs) :\n",
        "  return kwargs"
      ],
      "metadata": {
        "id": "M8XelNRUe0MI"
      },
      "execution_count": 70,
      "outputs": []
    },
    {
      "cell_type": "code",
      "source": [
        "test10(a=78,b=78,c=565,d=454)"
      ],
      "metadata": {
        "colab": {
          "base_uri": "https://localhost:8080/"
        },
        "id": "sKD_fowhfA3c",
        "outputId": "daca602a-2466-493e-e7d9-69b2d28835d0"
      },
      "execution_count": 71,
      "outputs": [
        {
          "output_type": "stream",
          "name": "stdout",
          "text": [
            "hellow world \n"
          ]
        },
        {
          "output_type": "execute_result",
          "data": {
            "text/plain": [
              "{'a': 78, 'b': 78, 'c': 565, 'd': 454}"
            ]
          },
          "metadata": {},
          "execution_count": 71
        }
      ]
    },
    {
      "cell_type": "markdown",
      "source": [
        "####**lambda Function**\n",
        "\n",
        "**How to create the lambda function**\n",
        "\n",
        "**To understand it better see the following code**"
      ],
      "metadata": {
        "id": "ZY1pxzCqhfDA"
      }
    },
    {
      "cell_type": "code",
      "source": [
        "lambda a , b : a + b  "
      ],
      "metadata": {
        "colab": {
          "base_uri": "https://localhost:8080/"
        },
        "id": "tspt6nE4h5v7",
        "outputId": "9ab1af60-33ef-4afb-db45-36fd1b834def"
      },
      "execution_count": 75,
      "outputs": [
        {
          "output_type": "execute_result",
          "data": {
            "text/plain": [
              "<function __main__.<lambda>(a, b)>"
            ]
          },
          "metadata": {},
          "execution_count": 75
        }
      ]
    },
    {
      "cell_type": "markdown",
      "source": [
        "**In the above functions which we are created we have to use the function name to define function. In the lambda function we don't need to give the name to the function.**\n",
        "\n",
        "**To get the output of the lambda function we need to store it in the variable**\n",
        "\n",
        "**It also called the anonymous function becoz it does not contain any name to define the function**"
      ],
      "metadata": {
        "id": "zMEgJc32iJZj"
      }
    },
    {
      "cell_type": "code",
      "source": [
        "c = lambda a , b : a + b  "
      ],
      "metadata": {
        "id": "eeZWAVDbh9fM"
      },
      "execution_count": 76,
      "outputs": []
    },
    {
      "cell_type": "code",
      "source": [
        "c(\"mahendra\" , \"patil\")"
      ],
      "metadata": {
        "colab": {
          "base_uri": "https://localhost:8080/",
          "height": 36
        },
        "id": "_6d6JdRfjLs1",
        "outputId": "59d90c11-0e00-49db-993c-bc18dc6d1972"
      },
      "execution_count": 77,
      "outputs": [
        {
          "output_type": "execute_result",
          "data": {
            "text/plain": [
              "'mahendrapatil'"
            ],
            "application/vnd.google.colaboratory.intrinsic+json": {
              "type": "string"
            }
          },
          "metadata": {},
          "execution_count": 77
        }
      ]
    },
    {
      "cell_type": "markdown",
      "source": [
        "**In the above way we get the output of the lambda function**"
      ],
      "metadata": {
        "id": "_j0sicw4jRSX"
      }
    },
    {
      "cell_type": "code",
      "source": [
        "d = lambda *args : args "
      ],
      "metadata": {
        "id": "wF5YJ2ZcjPf1"
      },
      "execution_count": 78,
      "outputs": []
    },
    {
      "cell_type": "code",
      "source": [
        "d(6,6,6,6)"
      ],
      "metadata": {
        "colab": {
          "base_uri": "https://localhost:8080/"
        },
        "id": "pgIXyYxOkLy9",
        "outputId": "e4af6b87-0dd9-438f-b09b-a1fefdd51b82"
      },
      "execution_count": 79,
      "outputs": [
        {
          "output_type": "execute_result",
          "data": {
            "text/plain": [
              "(6, 6, 6, 6)"
            ]
          },
          "metadata": {},
          "execution_count": 79
        }
      ]
    },
    {
      "cell_type": "code",
      "source": [
        "e = lambda ** args : args "
      ],
      "metadata": {
        "id": "KR-klMCSkOf7"
      },
      "execution_count": 85,
      "outputs": []
    },
    {
      "cell_type": "code",
      "source": [
        "e = (a:898,b:787,c:878,d:776)"
      ],
      "metadata": {
        "colab": {
          "base_uri": "https://localhost:8080/",
          "height": 130
        },
        "id": "_TjUnxlfkR8M",
        "outputId": "2963b2cb-8ea8-4f07-82c0-41eb113ab700"
      },
      "execution_count": 87,
      "outputs": [
        {
          "output_type": "error",
          "ename": "SyntaxError",
          "evalue": "ignored",
          "traceback": [
            "\u001b[0;36m  File \u001b[0;32m\"<ipython-input-87-afd6675f767f>\"\u001b[0;36m, line \u001b[0;32m1\u001b[0m\n\u001b[0;31m    e = (a:898,b:787,c:878,d:776)\u001b[0m\n\u001b[0m          ^\u001b[0m\n\u001b[0;31mSyntaxError\u001b[0m\u001b[0;31m:\u001b[0m invalid syntax\n"
          ]
        }
      ]
    },
    {
      "cell_type": "markdown",
      "source": [
        "####**Map Function()**"
      ],
      "metadata": {
        "id": "YgYsfbfdmVX5"
      }
    },
    {
      "cell_type": "code",
      "source": [
        "l = [1,2,3,4,5,6,7,8]"
      ],
      "metadata": {
        "id": "4dBu7WGPkbQJ"
      },
      "execution_count": 88,
      "outputs": []
    },
    {
      "cell_type": "markdown",
      "source": [
        "**We have to convert this list into the following form as**\n",
        "\n",
        "**l = [11,12,13,14,15,16,17,18]** \n",
        "\n",
        "**By using loop and function**\n",
        "\n",
        "**See the following code**"
      ],
      "metadata": {
        "id": "L0HhdnL2miop"
      }
    },
    {
      "cell_type": "code",
      "source": [
        "def listed() :\n",
        "  l = [1,2,3,4,5,6,7,8]\n",
        "  l1 = list()\n",
        "  for i in l :\n",
        "    l1.append(i+10)\n",
        "  return l1"
      ],
      "metadata": {
        "id": "zEJ0obUKmhuU"
      },
      "execution_count": 91,
      "outputs": []
    },
    {
      "cell_type": "code",
      "source": [
        "listed()"
      ],
      "metadata": {
        "colab": {
          "base_uri": "https://localhost:8080/"
        },
        "id": "fSVdWGcenM9U",
        "outputId": "e1050ada-35bb-49fc-a5d2-8159d5208aee"
      },
      "execution_count": 92,
      "outputs": [
        {
          "output_type": "execute_result",
          "data": {
            "text/plain": [
              "[11, 12, 13, 14, 15, 16, 17, 18]"
            ]
          },
          "metadata": {},
          "execution_count": 92
        }
      ]
    },
    {
      "cell_type": "markdown",
      "source": [
        "**Now we will perform same operation using map function**"
      ],
      "metadata": {
        "id": "AmgdU4rnnrO3"
      }
    },
    {
      "cell_type": "code",
      "source": [
        "def test11(a) :\n",
        "  return a + 10"
      ],
      "metadata": {
        "id": "p0H1KwmZqM0H"
      },
      "execution_count": 102,
      "outputs": []
    },
    {
      "cell_type": "code",
      "source": [
        "map(test11,l)"
      ],
      "metadata": {
        "colab": {
          "base_uri": "https://localhost:8080/"
        },
        "id": "R__cCX_onpe7",
        "outputId": "d7a3e106-3b67-4eba-8592-234fe7052cf5"
      },
      "execution_count": 105,
      "outputs": [
        {
          "output_type": "execute_result",
          "data": {
            "text/plain": [
              "<map at 0x7f651f3c1520>"
            ]
          },
          "metadata": {},
          "execution_count": 105
        }
      ]
    },
    {
      "cell_type": "code",
      "source": [
        "list(map(test11,l))"
      ],
      "metadata": {
        "colab": {
          "base_uri": "https://localhost:8080/"
        },
        "id": "soMv9rtepRV8",
        "outputId": "a7f50f39-2162-4465-a9b5-ac433a4f80ba"
      },
      "execution_count": 106,
      "outputs": [
        {
          "output_type": "execute_result",
          "data": {
            "text/plain": [
              "[21, 22, 23, 24, 25, 26, 27, 28]"
            ]
          },
          "metadata": {},
          "execution_count": 106
        }
      ]
    },
    {
      "cell_type": "code",
      "source": [
        "map(listed , l )"
      ],
      "metadata": {
        "colab": {
          "base_uri": "https://localhost:8080/"
        },
        "id": "Y2rbZtO0qzdE",
        "outputId": "e07d0d46-5bc9-44db-99f5-c1abccfd4cf9"
      },
      "execution_count": 107,
      "outputs": [
        {
          "output_type": "execute_result",
          "data": {
            "text/plain": [
              "<map at 0x7f651f2ada60>"
            ]
          },
          "metadata": {},
          "execution_count": 107
        }
      ]
    },
    {
      "cell_type": "code",
      "source": [
        "map(lambda a : a + 10 , l )"
      ],
      "metadata": {
        "colab": {
          "base_uri": "https://localhost:8080/"
        },
        "id": "KnFv4EPutZj1",
        "outputId": "4a4a1b2f-271a-4e53-9df9-bd70aea8611a"
      },
      "execution_count": 111,
      "outputs": [
        {
          "output_type": "execute_result",
          "data": {
            "text/plain": [
              "<map at 0x7f651f3c1ac0>"
            ]
          },
          "metadata": {},
          "execution_count": 111
        }
      ]
    },
    {
      "cell_type": "code",
      "source": [
        "list(map(lambda a : a + 10 , l ))"
      ],
      "metadata": {
        "colab": {
          "base_uri": "https://localhost:8080/"
        },
        "id": "oTB6FRfPtiDb",
        "outputId": "d5c29f74-ba5f-4592-a264-9c23073ecb0e"
      },
      "execution_count": 110,
      "outputs": [
        {
          "output_type": "execute_result",
          "data": {
            "text/plain": [
              "[21, 22, 23, 24, 25, 26, 27, 28]"
            ]
          },
          "metadata": {},
          "execution_count": 110
        }
      ]
    },
    {
      "cell_type": "code",
      "source": [
        "n = lambda a : a + 10  "
      ],
      "metadata": {
        "id": "MKUfH-1Jtvq6"
      },
      "execution_count": 118,
      "outputs": []
    },
    {
      "cell_type": "code",
      "source": [
        "list(map(n,l))"
      ],
      "metadata": {
        "colab": {
          "base_uri": "https://localhost:8080/"
        },
        "id": "Amb-eakRt936",
        "outputId": "5cd07f1c-2aa1-48f8-d89a-cd60ebcc69b3"
      },
      "execution_count": 119,
      "outputs": [
        {
          "output_type": "execute_result",
          "data": {
            "text/plain": [
              "[21, 22, 23, 24, 25, 26, 27, 28]"
            ]
          },
          "metadata": {},
          "execution_count": 119
        }
      ]
    },
    {
      "cell_type": "markdown",
      "source": [
        "**Map function just map your iterator with your function**"
      ],
      "metadata": {
        "id": "H4neFSmerWl5"
      }
    },
    {
      "cell_type": "markdown",
      "source": [
        "**Another problem and ways to solve that problem**"
      ],
      "metadata": {
        "id": "mZ-tLEeVvbev"
      }
    },
    {
      "cell_type": "code",
      "source": [
        "l1 = [\"mahendra\" , \"gharad\" , \"patil\"]"
      ],
      "metadata": {
        "id": "pkntumQqrBpU"
      },
      "execution_count": 120,
      "outputs": []
    },
    {
      "cell_type": "code",
      "source": [
        "l2 = list()\n",
        "for i in l1 :\n",
        "  l2.append(i.upper())"
      ],
      "metadata": {
        "id": "ZrF4D-oivph6"
      },
      "execution_count": 123,
      "outputs": []
    },
    {
      "cell_type": "code",
      "source": [
        "l2"
      ],
      "metadata": {
        "colab": {
          "base_uri": "https://localhost:8080/"
        },
        "id": "YDH0nmfDvyJk",
        "outputId": "08aeff42-50c0-4ce5-9c39-4b29d2225ecf"
      },
      "execution_count": 124,
      "outputs": [
        {
          "output_type": "execute_result",
          "data": {
            "text/plain": [
              "['MAHENDRA', 'GHARAD', 'PATIL']"
            ]
          },
          "metadata": {},
          "execution_count": 124
        }
      ]
    },
    {
      "cell_type": "code",
      "source": [
        "lambda l1 : l1.upper() "
      ],
      "metadata": {
        "colab": {
          "base_uri": "https://localhost:8080/"
        },
        "id": "sWyka6cEv7bQ",
        "outputId": "d6ad7a2b-3a3f-434b-9b08-835bf15138b6"
      },
      "execution_count": 129,
      "outputs": [
        {
          "output_type": "execute_result",
          "data": {
            "text/plain": [
              "<function __main__.<lambda>(l1)>"
            ]
          },
          "metadata": {},
          "execution_count": 129
        }
      ]
    },
    {
      "cell_type": "code",
      "source": [
        "c =lambda l1 : l1.upper()"
      ],
      "metadata": {
        "id": "6ciyKhlKwFGU"
      },
      "execution_count": 130,
      "outputs": []
    },
    {
      "cell_type": "code",
      "source": [
        "c"
      ],
      "metadata": {
        "colab": {
          "base_uri": "https://localhost:8080/"
        },
        "id": "FLFoJzn0wO69",
        "outputId": "0cc005de-4eba-473e-bfa8-1a6d8b5e8255"
      },
      "execution_count": 131,
      "outputs": [
        {
          "output_type": "execute_result",
          "data": {
            "text/plain": [
              "<function __main__.<lambda>(l1)>"
            ]
          },
          "metadata": {},
          "execution_count": 131
        }
      ]
    },
    {
      "cell_type": "code",
      "source": [
        "map(lambda a : a.upper() , l1)"
      ],
      "metadata": {
        "colab": {
          "base_uri": "https://localhost:8080/"
        },
        "id": "OZzfMaR3wP3l",
        "outputId": "02d60feb-f1e3-409d-d5d0-8c3b302e0729"
      },
      "execution_count": 132,
      "outputs": [
        {
          "output_type": "execute_result",
          "data": {
            "text/plain": [
              "<map at 0x7f65454424f0>"
            ]
          },
          "metadata": {},
          "execution_count": 132
        }
      ]
    },
    {
      "cell_type": "code",
      "source": [
        "list(map(lambda a : a.upper() , l1))"
      ],
      "metadata": {
        "colab": {
          "base_uri": "https://localhost:8080/"
        },
        "id": "g6DJ3_uuwiZU",
        "outputId": "c89304ca-0083-4d41-a44f-75e50f7991a9"
      },
      "execution_count": 133,
      "outputs": [
        {
          "output_type": "execute_result",
          "data": {
            "text/plain": [
              "['MAHENDRA', 'GHARAD', 'PATIL']"
            ]
          },
          "metadata": {},
          "execution_count": 133
        }
      ]
    },
    {
      "cell_type": "code",
      "source": [
        "def caps(a) :\n",
        "  return a.upper()"
      ],
      "metadata": {
        "id": "83Wp6VCXwofE"
      },
      "execution_count": 135,
      "outputs": []
    },
    {
      "cell_type": "code",
      "source": [
        "list(map(caps, l1))"
      ],
      "metadata": {
        "colab": {
          "base_uri": "https://localhost:8080/"
        },
        "id": "aNzfz-FNwvN0",
        "outputId": "0c9d8660-48ac-4252-835b-068c96df6c19"
      },
      "execution_count": 139,
      "outputs": [
        {
          "output_type": "execute_result",
          "data": {
            "text/plain": [
              "['MAHENDRA', 'GHARAD', 'PATIL']"
            ]
          },
          "metadata": {},
          "execution_count": 139
        }
      ]
    },
    {
      "cell_type": "markdown",
      "source": [
        "**Find the length of the every string**"
      ],
      "metadata": {
        "id": "Rr1JzyJ0xQbU"
      }
    },
    {
      "cell_type": "code",
      "source": [
        "l1"
      ],
      "metadata": {
        "colab": {
          "base_uri": "https://localhost:8080/"
        },
        "id": "n-60dg9Ww3cV",
        "outputId": "0a9338f2-554a-4fc0-9c81-92ab81a58b69"
      },
      "execution_count": 140,
      "outputs": [
        {
          "output_type": "execute_result",
          "data": {
            "text/plain": [
              "['mahendra', 'gharad', 'patil']"
            ]
          },
          "metadata": {},
          "execution_count": 140
        }
      ]
    },
    {
      "cell_type": "code",
      "source": [
        "def length(a) :\n",
        "  return len(a)"
      ],
      "metadata": {
        "id": "y6tOWUd-xYeE"
      },
      "execution_count": 142,
      "outputs": []
    },
    {
      "cell_type": "code",
      "source": [
        "list(map(length, l1))"
      ],
      "metadata": {
        "colab": {
          "base_uri": "https://localhost:8080/"
        },
        "id": "1NaFh_A3xfOD",
        "outputId": "2477d100-cbe4-4c64-931c-852ca806134b"
      },
      "execution_count": 143,
      "outputs": [
        {
          "output_type": "execute_result",
          "data": {
            "text/plain": [
              "[8, 6, 5]"
            ]
          },
          "metadata": {},
          "execution_count": 143
        }
      ]
    },
    {
      "cell_type": "code",
      "source": [
        "list(map(len, l1))"
      ],
      "metadata": {
        "colab": {
          "base_uri": "https://localhost:8080/"
        },
        "id": "risHvlvFxnOc",
        "outputId": "319198a3-0aa1-4504-b7cc-621ad269bf93"
      },
      "execution_count": 144,
      "outputs": [
        {
          "output_type": "execute_result",
          "data": {
            "text/plain": [
              "[8, 6, 5]"
            ]
          },
          "metadata": {},
          "execution_count": 144
        }
      ]
    },
    {
      "cell_type": "code",
      "source": [
        "l3 = [1,2,3,4,5,6,7,8,9]"
      ],
      "metadata": {
        "id": "34GquPzd0qpb"
      },
      "execution_count": 145,
      "outputs": []
    },
    {
      "cell_type": "code",
      "source": [
        "l3 = [1,2,3,4,5,6,7,8,9]\n",
        "l4 = list() \n",
        "for i in l3 :\n",
        "  if i % 2 == 0 :\n",
        "    l4.append(i)"
      ],
      "metadata": {
        "id": "uF80uX1F0tvU"
      },
      "execution_count": 2,
      "outputs": []
    },
    {
      "cell_type": "code",
      "source": [
        "l4"
      ],
      "metadata": {
        "colab": {
          "base_uri": "https://localhost:8080/"
        },
        "id": "xar2eJ8B03k0",
        "outputId": "4415eae8-dfe6-41e3-d904-6cfcb78773e7"
      },
      "execution_count": 3,
      "outputs": [
        {
          "output_type": "execute_result",
          "data": {
            "text/plain": [
              "[2, 4, 6, 8]"
            ]
          },
          "metadata": {},
          "execution_count": 3
        }
      ]
    },
    {
      "cell_type": "code",
      "source": [
        "def even(a) :\n",
        "    if a % 2 != 1 :\n",
        "        return a"
      ],
      "metadata": {
        "id": "0QZ9Pxs113Ha"
      },
      "execution_count": 7,
      "outputs": []
    },
    {
      "cell_type": "code",
      "source": [
        "map(even , l3 )"
      ],
      "metadata": {
        "colab": {
          "base_uri": "https://localhost:8080/"
        },
        "id": "nG5X02Y116wb",
        "outputId": "57d3b470-887e-415f-f500-e6c5ba9b6daf"
      },
      "execution_count": 8,
      "outputs": [
        {
          "output_type": "execute_result",
          "data": {
            "text/plain": [
              "<map at 0x7fa2e28d31c0>"
            ]
          },
          "metadata": {},
          "execution_count": 8
        }
      ]
    },
    {
      "cell_type": "code",
      "source": [
        "list(map(even , l3 ))"
      ],
      "metadata": {
        "colab": {
          "base_uri": "https://localhost:8080/"
        },
        "id": "hJ-iBJxq2ASb",
        "outputId": "b7eb97d9-2049-498f-bdcd-bac1030dfb9e"
      },
      "execution_count": 9,
      "outputs": [
        {
          "output_type": "execute_result",
          "data": {
            "text/plain": [
              "[None, 2, None, 4, None, 6, None, 8, None]"
            ]
          },
          "metadata": {},
          "execution_count": 9
        }
      ]
    },
    {
      "cell_type": "markdown",
      "source": [
        "**It gives the none , none , none becoz map is map all the element so when it going to map thatb element which aree not even then on the place of that it return us the none**"
      ],
      "metadata": {
        "id": "AENnqX2D6ole"
      }
    },
    {
      "cell_type": "code",
      "source": [
        "lambda a : a if a % 2 == 0 else None "
      ],
      "metadata": {
        "colab": {
          "base_uri": "https://localhost:8080/"
        },
        "id": "2680CKz24dmp",
        "outputId": "afac8dc6-990e-4789-f464-c251f33da015"
      },
      "execution_count": 21,
      "outputs": [
        {
          "output_type": "execute_result",
          "data": {
            "text/plain": [
              "<function __main__.<lambda>(a)>"
            ]
          },
          "metadata": {},
          "execution_count": 21
        }
      ]
    },
    {
      "cell_type": "code",
      "source": [
        "l6 = list()\n",
        "a = lambda a : a if a % 2 == 0 else None \n",
        "l6.append(a)"
      ],
      "metadata": {
        "id": "wQXOVaqx4t8s"
      },
      "execution_count": 28,
      "outputs": []
    },
    {
      "cell_type": "code",
      "source": [],
      "metadata": {
        "colab": {
          "base_uri": "https://localhost:8080/"
        },
        "id": "mykD8aNf40ML",
        "outputId": "16403e7d-e283-483a-c7bb-c411c70e01e7"
      },
      "execution_count": 30,
      "outputs": [
        {
          "output_type": "execute_result",
          "data": {
            "text/plain": [
              "[<function __main__.<lambda>(a)>]"
            ]
          },
          "metadata": {},
          "execution_count": 30
        }
      ]
    },
    {
      "cell_type": "markdown",
      "source": [
        "####**List comprehenssion**"
      ],
      "metadata": {
        "id": "2pu-ltHS20G-"
      }
    },
    {
      "cell_type": "code",
      "source": [
        "l3 = [1,2,3,4,5,6,7,8,9]"
      ],
      "metadata": {
        "id": "6YjMxH3E3v2h"
      },
      "execution_count": 20,
      "outputs": []
    },
    {
      "cell_type": "code",
      "source": [
        "[ i for i in l3 if i % 2 == 0 ]"
      ],
      "metadata": {
        "colab": {
          "base_uri": "https://localhost:8080/"
        },
        "id": "L2azWs4926Kq",
        "outputId": "f8b859d2-96a5-4024-b70e-64e946870219"
      },
      "execution_count": 14,
      "outputs": [
        {
          "output_type": "execute_result",
          "data": {
            "text/plain": [
              "[2, 4, 6, 8]"
            ]
          },
          "metadata": {},
          "execution_count": 14
        }
      ]
    },
    {
      "cell_type": "code",
      "source": [
        "l1 = ['mahendra' , 'gharad' , 'patil']"
      ],
      "metadata": {
        "id": "SnJpbtbx3Cur"
      },
      "execution_count": 16,
      "outputs": []
    },
    {
      "cell_type": "code",
      "source": [
        "[i.upper() for i in l1 ]"
      ],
      "metadata": {
        "colab": {
          "base_uri": "https://localhost:8080/"
        },
        "id": "apddfCxh3OQ6",
        "outputId": "15d8cb3d-c5e9-46bb-a515-b7f8a6697a0e"
      },
      "execution_count": 17,
      "outputs": [
        {
          "output_type": "execute_result",
          "data": {
            "text/plain": [
              "['MAHENDRA', 'GHARAD', 'PATIL']"
            ]
          },
          "metadata": {},
          "execution_count": 17
        }
      ]
    },
    {
      "cell_type": "code",
      "source": [
        "l = [1,2,3,4,5,6,7,8]"
      ],
      "metadata": {
        "id": "lxtNrexD3dJE"
      },
      "execution_count": 18,
      "outputs": []
    },
    {
      "cell_type": "code",
      "source": [
        "[i + 10 for i in l ]"
      ],
      "metadata": {
        "colab": {
          "base_uri": "https://localhost:8080/"
        },
        "id": "Lfx4xtJt3j77",
        "outputId": "1a8c5118-32a4-4ad5-8cde-58afac19fc96"
      },
      "execution_count": 19,
      "outputs": [
        {
          "output_type": "execute_result",
          "data": {
            "text/plain": [
              "[11, 12, 13, 14, 15, 16, 17, 18]"
            ]
          },
          "metadata": {},
          "execution_count": 19
        }
      ]
    },
    {
      "cell_type": "markdown",
      "source": [
        "####**Filter() it is same as the map function**"
      ],
      "metadata": {
        "id": "9URDNPB77vE1"
      }
    },
    {
      "cell_type": "code",
      "source": [
        "a = lambda a : a if a % 2 == 0 else None "
      ],
      "metadata": {
        "id": "Zbb-Ajqz3o48"
      },
      "execution_count": 32,
      "outputs": []
    },
    {
      "cell_type": "code",
      "source": [
        "filter(a , l)"
      ],
      "metadata": {
        "colab": {
          "base_uri": "https://localhost:8080/"
        },
        "id": "3COh9Afx7-R6",
        "outputId": "af6b74cc-5356-479a-ff32-73f33a831430"
      },
      "execution_count": 33,
      "outputs": [
        {
          "output_type": "execute_result",
          "data": {
            "text/plain": [
              "<filter at 0x7fa2d64e1b20>"
            ]
          },
          "metadata": {},
          "execution_count": 33
        }
      ]
    },
    {
      "cell_type": "code",
      "source": [
        "list(filter(a , l))"
      ],
      "metadata": {
        "colab": {
          "base_uri": "https://localhost:8080/"
        },
        "id": "QFtbBGtL8Hxt",
        "outputId": "dc8df023-eb42-45e1-f973-5e9a52315ca2"
      },
      "execution_count": 34,
      "outputs": [
        {
          "output_type": "execute_result",
          "data": {
            "text/plain": [
              "[2, 4, 6, 8]"
            ]
          },
          "metadata": {},
          "execution_count": 34
        }
      ]
    },
    {
      "cell_type": "markdown",
      "source": [
        "**Filter perform operations based on true and false conmdition**"
      ],
      "metadata": {
        "id": "LHJfubY58Vz3"
      }
    },
    {
      "cell_type": "markdown",
      "source": [
        "####**Reduce function**"
      ],
      "metadata": {
        "id": "kPyHK7yr9nS2"
      }
    },
    {
      "cell_type": "code",
      "source": [
        "l = [1,2,3,4,5,6,7,8]"
      ],
      "metadata": {
        "id": "b_6s6YK48L4O"
      },
      "execution_count": 35,
      "outputs": []
    },
    {
      "cell_type": "code",
      "source": [
        "sum(l)"
      ],
      "metadata": {
        "colab": {
          "base_uri": "https://localhost:8080/"
        },
        "id": "XpClgOnV9ub9",
        "outputId": "c99b47c2-0999-4bbb-c91c-7682eeb52bea"
      },
      "execution_count": 36,
      "outputs": [
        {
          "output_type": "execute_result",
          "data": {
            "text/plain": [
              "36"
            ]
          },
          "metadata": {},
          "execution_count": 36
        }
      ]
    },
    {
      "cell_type": "code",
      "source": [
        "l = [1,2,3,4,5,6,7,8,9]"
      ],
      "metadata": {
        "id": "QiOL0gwB9wF-"
      },
      "execution_count": 54,
      "outputs": []
    },
    {
      "cell_type": "code",
      "source": [
        "mul = 1 \n",
        "for i in l :\n",
        "  mul = mul * i \n",
        "print(mul)"
      ],
      "metadata": {
        "colab": {
          "base_uri": "https://localhost:8080/"
        },
        "id": "7VEHrCdU-BKu",
        "outputId": "32663df5-4bcd-4a95-ba83-c3c4e0ebd483"
      },
      "execution_count": 46,
      "outputs": [
        {
          "output_type": "stream",
          "name": "stdout",
          "text": [
            "40320\n"
          ]
        }
      ]
    },
    {
      "cell_type": "code",
      "source": [
        "from functools import reduce "
      ],
      "metadata": {
        "id": "wF-geA3B_Wq7"
      },
      "execution_count": 50,
      "outputs": []
    },
    {
      "cell_type": "code",
      "source": [
        "reduce (lambda a , b : a * b , l )"
      ],
      "metadata": {
        "colab": {
          "base_uri": "https://localhost:8080/"
        },
        "id": "RY5ULUgJ-SOl",
        "outputId": "11312cc6-cf70-4664-e1e3-2e4750c52e97"
      },
      "execution_count": 51,
      "outputs": [
        {
          "output_type": "execute_result",
          "data": {
            "text/plain": [
              "40320"
            ]
          },
          "metadata": {},
          "execution_count": 51
        }
      ]
    },
    {
      "cell_type": "code",
      "source": [
        "l = [1,2,3,4,5,6,7,8,9]"
      ],
      "metadata": {
        "id": "BQus7dPKCrAQ"
      },
      "execution_count": 56,
      "outputs": []
    },
    {
      "cell_type": "code",
      "source": [
        "reduce (lambda a , b , c : a * b * c , l )"
      ],
      "metadata": {
        "colab": {
          "base_uri": "https://localhost:8080/",
          "height": 165
        },
        "id": "lag1YDcp_J_d",
        "outputId": "cb655b36-09cb-4364-ae7e-04a72712eddc"
      },
      "execution_count": 57,
      "outputs": [
        {
          "output_type": "error",
          "ename": "TypeError",
          "evalue": "ignored",
          "traceback": [
            "\u001b[0;31m---------------------------------------------------------------------------\u001b[0m",
            "\u001b[0;31mTypeError\u001b[0m                                 Traceback (most recent call last)",
            "\u001b[0;32m<ipython-input-57-cdd1044b76de>\u001b[0m in \u001b[0;36m<module>\u001b[0;34m\u001b[0m\n\u001b[0;32m----> 1\u001b[0;31m \u001b[0mreduce\u001b[0m \u001b[0;34m(\u001b[0m\u001b[0;32mlambda\u001b[0m \u001b[0ma\u001b[0m \u001b[0;34m,\u001b[0m \u001b[0mb\u001b[0m \u001b[0;34m,\u001b[0m \u001b[0mc\u001b[0m \u001b[0;34m:\u001b[0m \u001b[0ma\u001b[0m \u001b[0;34m*\u001b[0m \u001b[0mb\u001b[0m \u001b[0;34m*\u001b[0m \u001b[0mc\u001b[0m \u001b[0;34m,\u001b[0m \u001b[0ml\u001b[0m \u001b[0;34m)\u001b[0m\u001b[0;34m\u001b[0m\u001b[0;34m\u001b[0m\u001b[0m\n\u001b[0m",
            "\u001b[0;31mTypeError\u001b[0m: <lambda>() missing 1 required positional argument: 'c'"
          ]
        }
      ]
    },
    {
      "cell_type": "markdown",
      "source": [
        "**When we use the reduce function we should only pass two arguments.**"
      ],
      "metadata": {
        "id": "3LbNXrT6C11l"
      }
    },
    {
      "cell_type": "code",
      "source": [
        "l7 = [3]"
      ],
      "metadata": {
        "id": "PP1tLz-UCO_d"
      },
      "execution_count": 60,
      "outputs": []
    },
    {
      "cell_type": "code",
      "source": [
        "reduce (lambda a , b , c : a * b * c , l7 )"
      ],
      "metadata": {
        "colab": {
          "base_uri": "https://localhost:8080/"
        },
        "id": "7w-UL3OiDSpm",
        "outputId": "d8a62033-67f8-4ef4-e0e6-823bae01fdca"
      },
      "execution_count": 61,
      "outputs": [
        {
          "output_type": "execute_result",
          "data": {
            "text/plain": [
              "3"
            ]
          },
          "metadata": {},
          "execution_count": 61
        }
      ]
    },
    {
      "cell_type": "markdown",
      "source": [
        "####**Docstring AND Notation**"
      ],
      "metadata": {
        "id": "ALqqKZWdFh53"
      }
    },
    {
      "cell_type": "code",
      "source": [
        "def test26(a : int ,b : \"func\", c:int  = 234) -> int:\n",
        "    '''this is my doc string to give a hint to next programer '''\n",
        "    return a +b +str(c)"
      ],
      "metadata": {
        "id": "xdIvR5ZyDYi9"
      },
      "execution_count": 63,
      "outputs": []
    },
    {
      "cell_type": "code",
      "source": [
        "test33()"
      ],
      "metadata": {
        "colab": {
          "base_uri": "https://localhost:8080/"
        },
        "id": "Ktkh2D0GGB1O",
        "outputId": "7c34bede-e161-4d35-fee9-91042052db96"
      },
      "execution_count": 64,
      "outputs": [
        {
          "output_type": "stream",
          "name": "stdout",
          "text": [
            "what is docstring\n"
          ]
        }
      ]
    },
    {
      "cell_type": "code",
      "source": [],
      "metadata": {
        "id": "Tf56kFnFKVFG"
      },
      "execution_count": null,
      "outputs": []
    }
  ]
}